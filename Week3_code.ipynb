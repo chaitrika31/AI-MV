{
  "nbformat": 4,
  "nbformat_minor": 0,
  "metadata": {
    "colab": {
      "provenance": [],
      "include_colab_link": true
    },
    "kernelspec": {
      "name": "python3",
      "display_name": "Python 3"
    },
    "language_info": {
      "name": "python"
    }
  },
  "cells": [
    {
      "cell_type": "markdown",
      "metadata": {
        "id": "view-in-github",
        "colab_type": "text"
      },
      "source": [
        "<a href=\"https://colab.research.google.com/github/chaitrika31/AI-MV/blob/main/Week3_code.ipynb\" target=\"_parent\"><img src=\"https://colab.research.google.com/assets/colab-badge.svg\" alt=\"Open In Colab\"/></a>"
      ]
    },
    {
      "cell_type": "code",
      "execution_count": 14,
      "metadata": {
        "colab": {
          "base_uri": "https://localhost:8080/"
        },
        "id": "3JN3embNW3dS",
        "outputId": "e6a23f0c-90a8-43eb-a23e-e8249df927ba"
      },
      "outputs": [
        {
          "output_type": "stream",
          "name": "stdout",
          "text": [
            "Requirement already satisfied: pyspark in /usr/local/lib/python3.12/dist-packages (3.5.1)\n",
            "Requirement already satisfied: py4j==0.10.9.7 in /usr/local/lib/python3.12/dist-packages (from pyspark) (0.10.9.7)\n"
          ]
        }
      ],
      "source": [
        "# install pyspark\n",
        "!pip3 install pyspark"
      ]
    },
    {
      "cell_type": "code",
      "source": [
        "from pyspark.sql import SparkSession\n",
        "from pyspark.sql.functions import col, count, mean, when, isnull\n",
        "\n",
        "# Connect to Google Drive\n",
        "from google.colab import drive\n",
        "drive.mount('/content/drive')"
      ],
      "metadata": {
        "colab": {
          "base_uri": "https://localhost:8080/"
        },
        "id": "muqCQT-wSSX6",
        "outputId": "cfcb856a-81f3-4d94-a723-7b91b432720e"
      },
      "execution_count": 15,
      "outputs": [
        {
          "output_type": "stream",
          "name": "stdout",
          "text": [
            "Drive already mounted at /content/drive; to attempt to forcibly remount, call drive.mount(\"/content/drive\", force_remount=True).\n"
          ]
        }
      ]
    },
    {
      "cell_type": "code",
      "source": [
        "#initialize SparkSession and installed Required Libraries\n",
        "from pyspark.ml.feature import VectorAssembler, StandardScaler\n",
        "from pyspark.sql import SparkSession\n",
        "from pyspark.ml.regression import LinearRegression\n",
        "from pyspark.ml.evaluation import RegressionEvaluator\n",
        "\n"
      ],
      "metadata": {
        "id": "jSes0EG3XI_W"
      },
      "execution_count": 16,
      "outputs": []
    },
    {
      "cell_type": "code",
      "source": [
        "# Initialize SparkSession\n",
        "spark = SparkSession.builder \\\n",
        "                    .appName(\"LinearRegression_spark\") \\\n",
        "                    .master(\"local[*]\") \\\n",
        "                    .config(\"spark.executor.memory\", \"4g\") \\\n",
        "                    .config(\"spark.driver.memory\", \"3g\") \\\n",
        "                    .config(\"spark.executor.cores\", \"2\") \\\n",
        "                    .config(\"spark.sql.inMemoryColumnarStorage.compressed\", \"true\") \\\n",
        "                    .getOrCreate()"
      ],
      "metadata": {
        "id": "bmxgpxsxYBen"
      },
      "execution_count": 17,
      "outputs": []
    },
    {
      "cell_type": "code",
      "source": [
        "spark"
      ],
      "metadata": {
        "colab": {
          "base_uri": "https://localhost:8080/",
          "height": 219
        },
        "id": "876JL4b2YGdK",
        "outputId": "6154cf55-6547-40aa-d2f3-d61d3aaac960"
      },
      "execution_count": 18,
      "outputs": [
        {
          "output_type": "execute_result",
          "data": {
            "text/plain": [
              "<pyspark.sql.session.SparkSession at 0x7d5eade733e0>"
            ],
            "text/html": [
              "\n",
              "            <div>\n",
              "                <p><b>SparkSession - in-memory</b></p>\n",
              "                \n",
              "        <div>\n",
              "            <p><b>SparkContext</b></p>\n",
              "\n",
              "            <p><a href=\"http://2012517e696b:4040\">Spark UI</a></p>\n",
              "\n",
              "            <dl>\n",
              "              <dt>Version</dt>\n",
              "                <dd><code>v3.5.1</code></dd>\n",
              "              <dt>Master</dt>\n",
              "                <dd><code>local[*]</code></dd>\n",
              "              <dt>AppName</dt>\n",
              "                <dd><code>LinearRegression_spark</code></dd>\n",
              "            </dl>\n",
              "        </div>\n",
              "        \n",
              "            </div>\n",
              "        "
            ]
          },
          "metadata": {},
          "execution_count": 18
        }
      ]
    },
    {
      "cell_type": "code",
      "source": [
        "print(f\"Spark UI available at: {spark.sparkContext.uiWebUrl}\")"
      ],
      "metadata": {
        "colab": {
          "base_uri": "https://localhost:8080/"
        },
        "id": "OKgx_lriYOnd",
        "outputId": "f68f7f1b-3a2f-4d5c-de8e-9344c2371023"
      },
      "execution_count": 19,
      "outputs": [
        {
          "output_type": "stream",
          "name": "stdout",
          "text": [
            "Spark UI available at: http://2012517e696b:4040\n"
          ]
        }
      ]
    },
    {
      "cell_type": "code",
      "source": [
        "spark.sparkContext.setLogLevel(\"INFO\")\n",
        "import psutil\n",
        "print(f\"CPU Usage: {psutil.cpu_percent()}%\")\n",
        "print(f\"Memory Usage: {psutil.virtual_memory().percent}%\")"
      ],
      "metadata": {
        "colab": {
          "base_uri": "https://localhost:8080/"
        },
        "id": "I5J-tJZlYR7r",
        "outputId": "1f7208c6-2d99-44b2-8db8-0e094167b117"
      },
      "execution_count": 20,
      "outputs": [
        {
          "output_type": "stream",
          "name": "stdout",
          "text": [
            "CPU Usage: 19.8%\n",
            "Memory Usage: 12.6%\n"
          ]
        }
      ]
    },
    {
      "cell_type": "code",
      "source": [
        "data = spark.read.csv(\"/content/drive/MyDrive/property (1).csv\", header=True, inferSchema=True)"
      ],
      "metadata": {
        "id": "mYtpj9QPYWyP"
      },
      "execution_count": 21,
      "outputs": []
    },
    {
      "cell_type": "code",
      "source": [
        "from google.colab import drive\n",
        "drive.mount('/content/drive')"
      ],
      "metadata": {
        "colab": {
          "base_uri": "https://localhost:8080/"
        },
        "id": "seRKxpW9R71z",
        "outputId": "383d439a-2e22-4e2a-fe72-8f2b2cfc0395"
      },
      "execution_count": 22,
      "outputs": [
        {
          "output_type": "stream",
          "name": "stdout",
          "text": [
            "Drive already mounted at /content/drive; to attempt to forcibly remount, call drive.mount(\"/content/drive\", force_remount=True).\n"
          ]
        }
      ]
    },
    {
      "cell_type": "code",
      "source": [
        "data.show()"
      ],
      "metadata": {
        "colab": {
          "base_uri": "https://localhost:8080/"
        },
        "id": "G5nVDy7TYdCi",
        "outputId": "fe838a92-f11b-42ec-fdff-a8924e8dad02"
      },
      "execution_count": 23,
      "outputs": [
        {
          "output_type": "stream",
          "name": "stdout",
          "text": [
            "+--------------+------------+-------------+----------+--------+------------------+\n",
            "|Square_Footage|Num_Bedrooms|Num_Bathrooms|Year_Built|Lot_Size|             Price|\n",
            "+--------------+------------+-------------+----------+--------+------------------+\n",
            "|          1360|           2|            3|      1953|    7860| 303948.1373854071|\n",
            "|          4272|           3|            3|      1997|    5292| 860386.2685075302|\n",
            "|          3592|           4|            1|      1983|    9723| 734389.7538956215|\n",
            "|           966|           6|            1|      1903|    4086| 226448.8070714377|\n",
            "|          4926|           6|            4|      1944|    1081|1022486.2616704078|\n",
            "|          3944|           6|            2|      1938|    3542| 845638.1354384426|\n",
            "|          3671|           2|            1|      1963|    5105| 748779.2192281872|\n",
            "|          3419|           4|            2|      1925|    5448| 743007.2614135538|\n",
            "|           630|           2|            2|      2012|    3204| 135656.4528785377|\n",
            "|          2185|           2|            2|      1921|    7191|480153.16300188465|\n",
            "|          1269|           4|            1|      1953|    9638| 273298.1781911301|\n",
            "|          2891|           6|            2|      1991|    4596|  602871.110555334|\n",
            "|          2933|           5|            1|      1966|    4958| 636462.8293225713|\n",
            "|          1684|           2|            3|      1950|    8724|397958.90799311374|\n",
            "|          3885|           5|            2|      2021|    4695| 810991.7677926597|\n",
            "|          4617|           3|            2|      1943|    1920| 949862.1850290807|\n",
            "|          3404|           2|            3|      1923|    4183| 689906.1306948366|\n",
            "|           974|           3|            2|      2018|    8034|   199985.65592338|\n",
            "|          1582|           1|            4|      1944|    8649| 330837.2755710519|\n",
            "|          3058|           1|            2|      1952|    2572| 604113.6363094774|\n",
            "+--------------+------------+-------------+----------+--------+------------------+\n",
            "only showing top 20 rows\n",
            "\n"
          ]
        }
      ]
    },
    {
      "cell_type": "code",
      "source": [
        "# more info\n",
        "print(\"Total Records\",data.count())\n",
        "print(\"Total Partitions \",data.rdd.getNumPartitions())"
      ],
      "metadata": {
        "colab": {
          "base_uri": "https://localhost:8080/"
        },
        "id": "_50aLBQ3Ynz5",
        "outputId": "15664a9d-43ad-4d39-92f9-83ac7d3fffd9"
      },
      "execution_count": 24,
      "outputs": [
        {
          "output_type": "stream",
          "name": "stdout",
          "text": [
            "Total Records 1000000\n",
            "Total Partitions  2\n"
          ]
        }
      ]
    },
    {
      "cell_type": "code",
      "source": [
        "# show Schema,Prints the structure of the dataset\n",
        "data.printSchema()"
      ],
      "metadata": {
        "colab": {
          "base_uri": "https://localhost:8080/"
        },
        "id": "Qj7lp8qKYrzj",
        "outputId": "0030329e-a118-4cc3-c365-a61d5c6843ec"
      },
      "execution_count": 25,
      "outputs": [
        {
          "output_type": "stream",
          "name": "stdout",
          "text": [
            "root\n",
            " |-- Square_Footage: integer (nullable = true)\n",
            " |-- Num_Bedrooms: integer (nullable = true)\n",
            " |-- Num_Bathrooms: integer (nullable = true)\n",
            " |-- Year_Built: integer (nullable = true)\n",
            " |-- Lot_Size: integer (nullable = true)\n",
            " |-- Price: double (nullable = true)\n",
            "\n"
          ]
        }
      ]
    },
    {
      "cell_type": "code",
      "source": [
        "print(f\"CPU Usage after openig the csv file: {psutil.cpu_percent()}%\")\n",
        "print(f\"Memory Usage after csv file: {psutil.virtual_memory().percent}%\")"
      ],
      "metadata": {
        "colab": {
          "base_uri": "https://localhost:8080/"
        },
        "id": "hwIF-8wdZJ0i",
        "outputId": "bcf80e16-f7fd-4dc4-e0ce-226ca3eb0d5d"
      },
      "execution_count": 26,
      "outputs": [
        {
          "output_type": "stream",
          "name": "stdout",
          "text": [
            "CPU Usage after openig the csv file: 99.0%\n",
            "Memory Usage after csv file: 15.4%\n"
          ]
        }
      ]
    },
    {
      "cell_type": "code",
      "source": [
        "# check missing or null values for each column\n",
        "from pyspark.sql.functions import col,isnan, when, count\n",
        "data.select([count(when(isnan(c) | col(c).isNull(), c)).alias(c) for c in data.columns]).show()"
      ],
      "metadata": {
        "colab": {
          "base_uri": "https://localhost:8080/"
        },
        "id": "cszHW2FdZO97",
        "outputId": "6531ca6a-f415-4042-a46e-c73cebf8a90c"
      },
      "execution_count": 27,
      "outputs": [
        {
          "output_type": "stream",
          "name": "stdout",
          "text": [
            "+--------------+------------+-------------+----------+--------+-----+\n",
            "|Square_Footage|Num_Bedrooms|Num_Bathrooms|Year_Built|Lot_Size|Price|\n",
            "+--------------+------------+-------------+----------+--------+-----+\n",
            "|             0|           0|            0|         0|       0|    0|\n",
            "+--------------+------------+-------------+----------+--------+-----+\n",
            "\n"
          ]
        }
      ]
    },
    {
      "cell_type": "code",
      "source": [
        "from pyspark.ml.feature import VectorAssembler\n",
        "assembler = VectorAssembler(inputCols = [\"Square_Footage\", \"Lot_Size\", \"Num_Bathrooms\",\"Year_Built\",\"Num_Bedrooms\"],\n",
        "                           outputCol = \"Features\",)"
      ],
      "metadata": {
        "id": "Byc-8wH6Zgvw"
      },
      "execution_count": 28,
      "outputs": []
    },
    {
      "cell_type": "code",
      "source": [
        "#StandardScaler\n",
        "scaler = StandardScaler(inputCol = \"Features\",\n",
        "                        outputCol = \"scaled_Features\")\n",
        "#create linear regression model.\n",
        "regressor = LinearRegression(labelCol = 'Price',\n",
        "                             featuresCol = 'scaled_Features'\n",
        "                             )"
      ],
      "metadata": {
        "id": "hvCcPzuhZoDJ"
      },
      "execution_count": 29,
      "outputs": []
    },
    {
      "cell_type": "code",
      "source": [
        "print(f\"CPU Usage after openig the csv file: {psutil.cpu_percent()}%\")\n",
        "print(f\"Memory Usage after csv file: {psutil.virtual_memory().percent}%\")"
      ],
      "metadata": {
        "colab": {
          "base_uri": "https://localhost:8080/"
        },
        "id": "ZDqE2Qn7ZtO6",
        "outputId": "05afc580-1c46-4f19-8118-a78edbac50a9"
      },
      "execution_count": 30,
      "outputs": [
        {
          "output_type": "stream",
          "name": "stdout",
          "text": [
            "CPU Usage after openig the csv file: 100.0%\n",
            "Memory Usage after csv file: 15.8%\n"
          ]
        }
      ]
    },
    {
      "cell_type": "code",
      "source": [
        "from pyspark.ml import Pipeline\n",
        "pipeline  = Pipeline(stages = [assembler,scaler,regressor])\n",
        "#--Saving the Pipeline\n",
        "pipeline.write().overwrite().save(\"pipeline_LRsaved_model\")\n",
        "print(f\"CPU Usage after openig the csv file: {psutil.cpu_percent()}%\")\n",
        "print(f\"Memory Usage after csv file: {psutil.virtual_memory().percent}%\")"
      ],
      "metadata": {
        "colab": {
          "base_uri": "https://localhost:8080/"
        },
        "id": "BGZS1B8eZwdC",
        "outputId": "08682414-ac34-43db-9708-cca4b05aabf6"
      },
      "execution_count": 31,
      "outputs": [
        {
          "output_type": "stream",
          "name": "stdout",
          "text": [
            "CPU Usage after openig the csv file: 99.7%\n",
            "Memory Usage after csv file: 15.8%\n"
          ]
        }
      ]
    },
    {
      "cell_type": "code",
      "source": [
        "#Loading the Pipeline\n",
        "pipelineModel = Pipeline.load('./pipeline_LRsaved_model')"
      ],
      "metadata": {
        "id": "SxRahT4FZ4LM"
      },
      "execution_count": 32,
      "outputs": []
    },
    {
      "cell_type": "code",
      "source": [
        "data_train, data_test = data.randomSplit([0.8,0.2], seed = 42)"
      ],
      "metadata": {
        "id": "1Ia80bnZZ95J"
      },
      "execution_count": 33,
      "outputs": []
    },
    {
      "cell_type": "code",
      "source": [
        "Model = pipeline.fit(data_train)\n",
        "print(f\"CPU Usage after openig the csv file: {psutil.cpu_percent()}%\")\n",
        "print(f\"Memory Usage after csv file: {psutil.virtual_memory().percent}%\")"
      ],
      "metadata": {
        "colab": {
          "base_uri": "https://localhost:8080/"
        },
        "id": "VT4uNy5UatH3",
        "outputId": "f91093c0-07d2-4c0e-9a0d-cc90a6868bd5"
      },
      "execution_count": 34,
      "outputs": [
        {
          "output_type": "stream",
          "name": "stdout",
          "text": [
            "CPU Usage after openig the csv file: 98.2%\n",
            "Memory Usage after csv file: 17.9%\n"
          ]
        }
      ]
    },
    {
      "cell_type": "code",
      "source": [
        "print(\"total LR cofficents\",len(Model.stages[2].coefficients) )\n",
        "print(\"Cofficientents\",Model.stages[2].coefficients)\n",
        "print(\"Intecept\",Model.stages[2].intercept)"
      ],
      "metadata": {
        "colab": {
          "base_uri": "https://localhost:8080/"
        },
        "id": "z8KTaXhWbFJq",
        "outputId": "40f1977b-7e60-48c5-aca0-511e41c210eb"
      },
      "execution_count": 35,
      "outputs": [
        {
          "output_type": "stream",
          "name": "stdout",
          "text": [
            "total LR cofficents 5\n",
            "Cofficientents [259780.12595993155,271.5939763714586,3383.347658405624,-3505.631769314011,8525.619659292961]\n",
            "Intecept 201303.7713571679\n"
          ]
        }
      ]
    },
    {
      "cell_type": "code",
      "source": [
        "#n the prediction phase, we test our model on some unseen data.\n",
        "pred = Model.transform(data_test)\n",
        "pred.select('prediction', 'Price').show(10, truncate = False)"
      ],
      "metadata": {
        "colab": {
          "base_uri": "https://localhost:8080/"
        },
        "id": "OQtaQV6UbPzZ",
        "outputId": "17c28e1b-34c3-491d-9184-ab725b7f64b4"
      },
      "execution_count": 36,
      "outputs": [
        {
          "output_type": "stream",
          "name": "stdout",
          "text": [
            "+------------------+------------------+\n",
            "|prediction        |Price             |\n",
            "+------------------+------------------+\n",
            "|118059.13922566958|117632.63219959654|\n",
            "|109776.33782739907|106670.25438504865|\n",
            "|122744.64022798225|129488.84657892359|\n",
            "|114407.05613098743|115218.14440379351|\n",
            "|124296.11676456698|103211.80851419755|\n",
            "|121766.15789056706|95443.54011673816 |\n",
            "|114882.94170203069|75029.23686169085 |\n",
            "|123959.45591767559|102503.11714851807|\n",
            "|127377.38339111669|146356.05433151638|\n",
            "|127104.052736321  |121454.94973331907|\n",
            "+------------------+------------------+\n",
            "only showing top 10 rows\n",
            "\n"
          ]
        }
      ]
    },
    {
      "cell_type": "code",
      "source": [
        "#create linear regression model.\n",
        "Lasoregressor = LinearRegression(labelCol = 'Price',\n",
        "                             featuresCol = 'scaled_Features',\n",
        "                             elasticNetParam=1,\n",
        "                             regParam=0.1\n",
        "                             )\n",
        "Lasaopipeline  = Pipeline(stages = [assembler,scaler,Lasoregressor])\n",
        "LassoModel = Lasaopipeline.fit(data_train)"
      ],
      "metadata": {
        "id": "JwIG5aIucOTa"
      },
      "execution_count": 37,
      "outputs": []
    },
    {
      "cell_type": "code",
      "source": [
        "#create linear regression model.\n",
        "Ridgeregressor = LinearRegression(labelCol = 'Price',\n",
        "                             featuresCol = 'scaled_Features',\n",
        "                             elasticNetParam=0,\n",
        "                             regParam=0.1\n",
        "                             )\n",
        "Ridgepipeline  = Pipeline(stages = [assembler,scaler,Ridgeregressor])\n",
        "RidgeModel = Ridgepipeline.fit(data_train)"
      ],
      "metadata": {
        "id": "gCi1-8lMcgb9"
      },
      "execution_count": 38,
      "outputs": []
    },
    {
      "cell_type": "code",
      "source": [
        "#n the prediction phase, we test our model on some unseen data.\n",
        "lassopred = LassoModel.transform(data_test)\n",
        "lassopred.select('prediction', 'Price').show(15, truncate = False)"
      ],
      "metadata": {
        "colab": {
          "base_uri": "https://localhost:8080/"
        },
        "id": "5qmpgN4rcUmy",
        "outputId": "107c55a3-9039-41fd-f4b6-cd4d1e2e777e"
      },
      "execution_count": 39,
      "outputs": [
        {
          "output_type": "stream",
          "name": "stdout",
          "text": [
            "+------------------+------------------+\n",
            "|prediction        |Price             |\n",
            "+------------------+------------------+\n",
            "|118059.58503624618|117632.63219959654|\n",
            "|109776.99243337651|106670.25438504865|\n",
            "|122744.99443028081|129488.84657892359|\n",
            "|114407.64949485273|115218.14440379351|\n",
            "|124296.42762001032|103211.80851419755|\n",
            "|121766.34207738584|95443.54011673816 |\n",
            "|114883.52882599973|75029.23686169085 |\n",
            "|123959.59712819383|102503.11714851807|\n",
            "|127377.56118724318|146356.05433151638|\n",
            "|127104.2971532674 |121454.94973331907|\n",
            "|126604.88550848867|126447.31968235047|\n",
            "|127409.919708304  |117989.49702654009|\n",
            "|125182.84739563154|107151.56008245455|\n",
            "|128487.65707231688|124488.1412983082 |\n",
            "|135449.50066814508|136802.2644219193 |\n",
            "+------------------+------------------+\n",
            "only showing top 15 rows\n",
            "\n"
          ]
        }
      ]
    },
    {
      "cell_type": "code",
      "source": [
        "#n the prediction phase, we test our model on some unseen data.\n",
        "Ridgepred = RidgeModel.transform(data_test)\n",
        "Ridgepred.select('prediction', 'Price').show(10, truncate = False)"
      ],
      "metadata": {
        "colab": {
          "base_uri": "https://localhost:8080/"
        },
        "id": "3aSxp-6lcmmn",
        "outputId": "076352cd-2823-42d1-e107-b6d4127b50be"
      },
      "execution_count": 40,
      "outputs": [
        {
          "output_type": "stream",
          "name": "stdout",
          "text": [
            "+------------------+------------------+\n",
            "|prediction        |Price             |\n",
            "+------------------+------------------+\n",
            "|118059.31639102088|117632.63219959654|\n",
            "|109776.51827559841|106670.25438504865|\n",
            "|122744.81564146161|129488.84657892359|\n",
            "|114407.23494730127|115218.14440379351|\n",
            "|124296.29193350823|103211.80851419755|\n",
            "|121766.33438788216|95443.54011673816 |\n",
            "|114883.12028636347|75029.23686169085 |\n",
            "|123959.63186982217|102503.11714851807|\n",
            "|127377.55782484837|146356.05433151638|\n",
            "|127104.22711147154|121454.94973331907|\n",
            "+------------------+------------------+\n",
            "only showing top 10 rows\n",
            "\n"
          ]
        }
      ]
    },
    {
      "cell_type": "code",
      "source": [
        "#Model Evaluation Spark Provides evaluation metrics\n",
        "#for regression and classification tasks.\n",
        "from pyspark.ml.evaluation import RegressionEvaluator\n",
        "evaluator_mean_Square_Error = RegressionEvaluator(labelCol =\n",
        "                                    'Price',\n",
        "                                    predictionCol =\n",
        "                                    'prediction',\n",
        "                                    metricName =\n",
        "                                    'mse')"
      ],
      "metadata": {
        "id": "nzLbtLTYcve1"
      },
      "execution_count": 41,
      "outputs": []
    },
    {
      "cell_type": "code",
      "source": [
        "# calculate MSE\n",
        "mse1 = evaluator_mean_Square_Error.evaluate(pred)\n",
        "mselasso = evaluator_mean_Square_Error.evaluate(lassopred)\n",
        "mseridge = evaluator_mean_Square_Error.evaluate(Ridgepred)\n",
        "\n",
        "evaluator_rmse = RegressionEvaluator(labelCol =\n",
        "                                     'Price',\n",
        "                                     predictionCol =\n",
        "                                     'prediction',\n",
        "                                     metricName =\n",
        "                                     'rmse')"
      ],
      "metadata": {
        "id": "C18fbOKDc4o5"
      },
      "execution_count": 42,
      "outputs": []
    },
    {
      "cell_type": "code",
      "source": [
        "# calculate RMSE\n",
        "rmse1 = evaluator_rmse.evaluate(pred)\n",
        "rmse2_lasso = evaluator_rmse.evaluate(lassopred)\n",
        "rmse3Ridge = evaluator_rmse.evaluate(Ridgepred)\n",
        "\n",
        "evaluator_r2 = RegressionEvaluator(labelCol = 'Price',\n",
        "                                   predictionCol = 'prediction',\n",
        "                                   metricName = 'r2')"
      ],
      "metadata": {
        "id": "8AqvfVc-dFd8"
      },
      "execution_count": 43,
      "outputs": []
    },
    {
      "cell_type": "code",
      "source": [
        "# calculate R_squared\n",
        "r2_score1 = evaluator_r2.evaluate(pred)\n",
        "r2_lasso = evaluator_r2.evaluate(lassopred)\n",
        "r2_ridge = evaluator_r2.evaluate(Ridgepred)\n",
        "# print the evaluation metrics\n",
        "print('Regression - MSE: ', mse1, ', RMSE: ', rmse1, ', R^2: ', r2_score1)\n",
        "print('Lasso - MSE: ', mselasso, ', RMSE: ', rmse2_lasso, ', R^2: ', r2_lasso)\n",
        "print('Ridge - MSE: ', mseridge, ', RMSE: ', rmse3Ridge, ', R^2: ', r2_ridge)"
      ],
      "metadata": {
        "colab": {
          "base_uri": "https://localhost:8080/"
        },
        "id": "OYvkQmGtdWq6",
        "outputId": "1e21548f-88ea-4119-9c90-49ed49ec6de3"
      },
      "execution_count": 44,
      "outputs": [
        {
          "output_type": "stream",
          "name": "stdout",
          "text": [
            "Regression - MSE:  400269383.42082375 , RMSE:  20006.733452036187 , R^2:  0.9940979930679151\n",
            "Lasso - MSE:  400269386.8777617 , RMSE:  20006.733538430548 , R^2:  0.9940979930169423\n",
            "Ridge - MSE:  400269386.33788484 , RMSE:  20006.73352493817 , R^2:  0.9940979930249029\n"
          ]
        }
      ]
    },
    {
      "cell_type": "code",
      "source": [
        "# plot\n",
        "import matplotlib.pyplot as plt\n",
        "import numpy as np\n",
        "\n",
        "mse = [mse1, mselasso, mseridge]\n",
        "rmse = [rmse1, rmse2_lasso, rmse3Ridge]\n",
        "r2_score = [r2_score1, rmse2_lasso, r2_ridge]\n",
        "\n",
        "positions = np.arange(len(mse))\n",
        "bar_width = 0.2\n",
        "\n",
        "plt.bar(positions - bar_width, mse, width = bar_width, label = 'MSE')\n",
        "plt.bar(positions, rmse, width = bar_width, label = 'RMSE')\n",
        "plt.bar(positions + bar_width, r2_score, width = bar_width, label = 'R2_Score')\n",
        "\n",
        "# adding labels and title\n",
        "plt.xlabel('Model')\n",
        "plt.ylabel('Scores')\n",
        "plt.title('Comparison of Regression Metrics')\n",
        "\n",
        "# adding the legend\n",
        "plt.legend()\n",
        "plt.xticks(positions, ['Regression', 'Lasso', 'Ridge'])\n",
        "plt.show()"
      ],
      "metadata": {
        "colab": {
          "base_uri": "https://localhost:8080/",
          "height": 472
        },
        "id": "Db-bS5KLdfKj",
        "outputId": "09dbd580-97ef-4e76-af84-3a123f472ad6"
      },
      "execution_count": 45,
      "outputs": [
        {
          "output_type": "display_data",
          "data": {
            "text/plain": [
              "<Figure size 640x480 with 1 Axes>"
            ],
            "image/png": "[encoded data removed]"
          },
          "metadata": {}
        }
      ]
    }
  ]
}